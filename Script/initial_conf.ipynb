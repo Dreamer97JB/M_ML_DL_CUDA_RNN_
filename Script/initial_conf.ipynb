{
 "cells": [
  {
   "cell_type": "markdown",
   "metadata": {},
   "source": [
    "## TRABAJO DE TITULACIÓN   - Grupo 8\n",
    "\n",
    " * Carlos Guzmán\n",
    " * Diego Salazar\n",
    " * Jonathan Barrionuevo\n",
    " * Nicole Molina"
   ]
  },
  {
   "cell_type": "markdown",
   "metadata": {},
   "source": [
    "### Inicialización del Proyecto\n"
   ]
  },
  {
   "cell_type": "markdown",
   "metadata": {},
   "source": [
    "## Configuración del Entorno de Trabajo con Docker\n",
    "\n",
    "En esta primera parte, vamos a crear y configurar un entorno de trabajo para ejecutar modelos de Machine Learning y procesamiento de datos en un contenedor Docker. El proceso está dividido en dos pasos clave:\n",
    "\n",
    "### 1. Construcción de la Imagen Docker\n",
    "\n",
    "El primer paso es crear una **imagen Docker** usando un archivo `Dockerfile`. La imagen actúa como una \"plantilla\" o \"receta\" que define todas las dependencias, configuraciones y bibliotecas necesarias para nuestro proyecto. En este caso, estamos usando CUDA, PyTorch, Jupyter Notebook, y otras bibliotecas de procesamiento de datos.\n",
    "\n",
    "- **Dockerfile**: El archivo `Dockerfile` incluye instrucciones para:\n",
    "  - Establecer una imagen base compatible con CUDA.\n",
    "  - Instalar Python y otras dependencias necesarias.\n",
    "  - Crear un entorno virtual dentro del contenedor.\n",
    "  - Instalar bibliotecas específicas como PyTorch, NLTK, spaCy, Transformers, y Jupyter Notebook.\n",
    "  - Configurar el entorno para que esté listo para ejecutar scripts de Machine Learning y Deep Learning.\n",
    "\n",
    "- **Construcción de la Imagen**: Para crear la imagen, ejecutamos el siguiente comando en la terminal:\n",
    "  ```bash\n",
    "  docker build -t cudarnn:latest .\n",
    "\n",
    "  Esto genera una imagen llamada cudarnn:latest que contiene todo el entorno y las configuraciones definidas en el Dockerfile.\n",
    "\n",
    "### 2. Ejecución del Contenedor desde el Notebook\n",
    "\n",
    "Una vez que hemos creado la imagen `cudarnn:latest`, el siguiente paso es **lanzar un contenedor** basado en esta imagen. Este paso lo hacemos directamente desde el notebook (`ipynb`) utilizando un script en Python con `subprocess`.\n",
    "\n",
    "Este script ejecuta un comando `docker run` que:\n",
    "\n",
    "*   **Lanza un contenedor** desde la imagen `cudarnn:latest`.\n",
    "*   **Configura volúmenes** para montar carpetas locales (como `Script` y `Dataset`), permitiendo que el contenedor acceda a archivos en nuestro sistema.\n",
    "*   **Mapea puertos** para acceder a Jupyter Notebook desde el navegador (usando el puerto 8888).\n",
    "*   **Asigna GPU** (si está disponible) para aprovechar el soporte de CUDA.\n",
    "*   **Inicia Jupyter Notebook** dentro del contenedor, permitiendo trabajar en un entorno interactivo a través del navegador.\n",
    "\n",
    "De esta manera, el notebook actúa como una **interfaz de usuario** para lanzar y trabajar dentro del contenedor Docker, aprovechando el entorno consistente y controlado que hemos creado con la imagen.\n",
    "\n",
    "> **Nota importante**: Antes de ejecutar el script, asegúrate de **cambiar las rutas absolutas** en el código del notebook (`script_path` y `dataset_path`) para que apunten a las ubicaciones correctas en tu sistema de archivos local. Esto permitirá que el contenedor monte correctamente las carpetas `Script` y `Dataset` dentro del entorno de Docker. Aquí tienes un ejemplo de cómo deberían verse las rutas:\n",
    "> \n",
    "> ```python\n",
    "> script_path = \"C:/Users/DELL/Desktop/M_ML_DL_CUDA_RNN_/Script\"  # Ruta completa a Script\n",
    "> dataset_path = \"C:/Users/DELL/Desktop/M_ML_DL_CUDA_RNN_/Dataset\"  # Ruta completa a Dataset\n",
    "> ```\n",
    "> \n",
    "> Asegúrate de ajustar estas rutas de acuerdo a la ubicación de las carpetas en tu máquina. Estas carpetas montadas te permitirán acceder a tus archivos de scripts y datos desde Jupyter Notebook dentro del contenedor.\n",
    "\n",
    "Una vez que el contenedor esté en ejecución, el script proporcionará una URL con un token de acceso para abrir Jupyter Notebook en tu navegador. Copia y pega esta URL en el navegador para acceder a tu entorno de trabajo dentro del contenedor Docker.\n"
   ]
  },
  {
   "cell_type": "markdown",
   "metadata": {},
   "source": [
    "### Acceso a Jupyter Notebook en Docker\n",
    "\n",
    "Una vez que el contenedor se ha iniciado exitosamente, sigue estos pasos para acceder a Jupyter Notebook:\n",
    "\n",
    "1. **Obtener el Token de Autenticación**:\n",
    "   - Abre una terminal o línea de comandos separada.\n",
    "   - Ejecuta el siguiente comando para ver los logs del contenedor y obtener el token de Jupyter Notebook:\n",
    "     ```bash\n",
    "     docker logs nombre_del_contenedor\n",
    "     ```\n",
    "   - Reemplaza `nombre_del_contenedor` con el nombre que hayas asignado al contenedor (por ejemplo, `tourism-classificator`).\n",
    "   - Busca en los logs una línea que contenga una URL similar a:\n",
    "     ```\n",
    "     http://127.0.0.1:8888/?token=tu_token_aqui\n",
    "     ```\n",
    "   - Copia el valor del token (lo que está después de `?token=`).\n",
    "\n",
    "2. **Ingresar el Token en el Script**:\n",
    "   - Vuelve al notebook de configuración (`initial_conf.ipynb`) donde se está ejecutando el script de configuración.\n",
    "   - Cuando el script te pida el token, pégalo y presiona Enter.\n",
    "\n",
    "3. **Abrir Jupyter Notebook en el Navegador**:\n",
    "   - Después de ingresar el token, el script te mostrará una URL completa para acceder a Jupyter Notebook.\n",
    "   - Copia y pega esta URL en tu navegador para abrir el entorno de Jupyter Notebook.\n",
    "\n",
    "4. **Comienza a Trabajar en el Entorno de Jupyter Notebook**:\n",
    "   - Dentro de Jupyter Notebook, podrás acceder a las carpetas `Script` y `Dataset` que configuraste en el contenedor.\n",
    "   - Puedes abrir y trabajar con notebooks directamente en el navegador en un entorno controlado de Docker.\n",
    "\n",
    "> **Nota**: Si tienes algún problema con el token, puedes volver a ejecutar el comando `docker logs nombre_del_contenedor` para obtenerlo nuevamente.\n"
   ]
  },
  {
   "cell_type": "code",
   "execution_count": null,
   "metadata": {},
   "outputs": [
    {
     "name": "stdout",
     "output_type": "stream",
     "text": [
      "Contenedor iniciado con éxito.\n"
     ]
    }
   ],
   "source": [
    "import subprocess\n",
    "import time\n",
    "import os\n",
    "\n",
    "# Pedir al usuario el nombre de la imagen y el nombre del contenedor\n",
    "image_name = input(\"Ingresa el nombre de la imagen Docker: \")\n",
    "container_name = input(\"Dale un nombre al contenedor: \")\n",
    "\n",
    "# Rutas absolutas en tu sistema para las carpetas Script y Dataset\n",
    "script_path = \"C:/Users/DELL/Desktop/UIDE/Tesis/Repositorio/M_ML_DL_CUDA_RNN_\\Script\"  # Ajusta la ruta\n",
    "dataset_path = \"C:/Users/DELL/Desktop/UIDE/Tesis/Repositorio/M_ML_DL_CUDA_RNN_\\Dataset\"  # Ajusta la ruta\n",
    "\n",
    "# Construir el comando Docker en modo detached (`-d`)\n",
    "command = [\n",
    "    \"docker\", \"run\", \"--gpus\", \"all\", \"-d\", \"-p\", \"8888:8888\",\n",
    "    \"-v\", f\"{script_path}:/workspace/Script\",\n",
    "    \"-v\", f\"{dataset_path}:/workspace/Dataset\",\n",
    "    \"--name\", container_name,\n",
    "    image_name,\n",
    "    \"/opt/venv/bin/jupyter\", \"notebook\", \"--ip=0.0.0.0\", \"--port=8888\", \"--no-browser\", \"--allow-root\"\n",
    "]\n",
    "\n",
    "# Ejecutar el comando Docker\n",
    "try:\n",
    "    # Iniciar el contenedor\n",
    "    result = subprocess.run(command, check=True, text=True, capture_output=True)\n",
    "    print(\"Contenedor iniciado con éxito.\")\n",
    "       \n",
    "    # Solicitar el token al usuario\n",
    "    user_token = input(\"Por favor, ingresa el token de Jupyter Notebook: \")\n",
    "    jupyter_url = f\"http://127.0.0.1:8888/?token={user_token}\"\n",
    "    \n",
    "    # Mostrar la URL final con el token incluido\n",
    "    print(f\"\\nAccede a Jupyter Notebook en tu navegador usando esta URL:\\n{jupyter_url}\")\n",
    "except subprocess.CalledProcessError as e:\n",
    "    print(\"Error al iniciar el contenedor:\")\n",
    "    print(\"STDOUT:\", e.stdout)\n",
    "    print(\"STDERR:\", e.stderr)"
   ]
  }
 ],
 "metadata": {
  "language_info": {
   "name": "python"
  }
 },
 "nbformat": 4,
 "nbformat_minor": 2
}
