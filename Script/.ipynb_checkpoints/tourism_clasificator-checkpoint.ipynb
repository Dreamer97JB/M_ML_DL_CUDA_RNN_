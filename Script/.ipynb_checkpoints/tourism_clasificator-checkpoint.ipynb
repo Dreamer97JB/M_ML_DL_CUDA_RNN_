{
 "cells": [
  {
   "cell_type": "markdown",
   "metadata": {},
   "source": [
    "## TRABAJO DE TITULACIÓN   - Grupo 8\n",
    "\n",
    " * Carlos Guzmán\n",
    " * Diego Salazar\n",
    " * Jonathan Barrionuevo\n",
    " * Nicole Molina"
   ]
  }
 ],
 "metadata": {
  "language_info": {
   "name": "python"
  }
 },
 "nbformat": 4,
 "nbformat_minor": 2
}
